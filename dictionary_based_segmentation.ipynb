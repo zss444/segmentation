{
 "cells": [
  {
   "cell_type": "code",
   "execution_count": 4,
   "metadata": {},
   "outputs": [],
   "source": [
    "def forward_max_matching(vocab, sentence):\n",
    "    \"\"\"\n",
    "    基于正向最大匹配算法 (FMM) 的中文分词函数\n",
    "\n",
    "    参数：\n",
    "    vocab (list): 词典，包含了所有可能的词汇\n",
    "    sentence (str): 需要分词的句子\n",
    "\n",
    "    返回：\n",
    "    list: 分词结果的列表\n",
    "    \"\"\"\n",
    "    fmmresult = []  # 存储分词结果的列表\n",
    "    max_len = max([len(item) for item in vocab])  # 获取词典中最长词的长度\n",
    "    start = 0  # 分词的起始位置\n",
    "\n",
    "    # 开始遍历句子，直到处理完整个句子\n",
    "    while start != len(sentence):\n",
    "        index = start + max_len  # 尝试匹配最大长度的词\n",
    "        if index > len(sentence):  # 如果索引超出句子长度，修正为句子末尾\n",
    "            index = len(sentence)\n",
    "\n",
    "        # 从当前起始位置尝试从最大长度开始逐步缩小词的长度进行匹配\n",
    "        while index > start:\n",
    "            current_substr = sentence[start:index]  # 截取当前子串\n",
    "            # 如果子串在词典中，或者子串长度为1，则认为是一个有效词\n",
    "            if current_substr in vocab or len(current_substr) == 1:\n",
    "                fmmresult.append(current_substr)  # 将有效词加入结果列表\n",
    "                start = index  # 更新起始位置，跳过已处理的部分\n",
    "                break  # 找到一个有效词后跳出内层循环继续处理下一个子串\n",
    "            index -= 1  # 如果没有匹配到有效词，缩短子串长度再试\n",
    "\n",
    "    return fmmresult  # 返回最终的分词结果"
   ]
  },
  {
   "cell_type": "code",
   "execution_count": 5,
   "metadata": {},
   "outputs": [],
   "source": [
    "def reverse_directional_max_matching(vocab, sentence):\n",
    "    \"\"\"\n",
    "    Reverse Maximum Matching (RMM) 分词算法。\n",
    "    从句子的末尾开始，尝试从词典中匹配最长的词直到句子被分割。\n",
    "\n",
    "    Args:\n",
    "        vocab (list): 词典，包含了所有可能的词汇\n",
    "        sentence (str): 需要分词的句子\n",
    "\n",
    "    Returns:\n",
    "        list: 分词后的结果，按顺序返回分词列表\n",
    "    \"\"\"\n",
    "    # 初始化一个空列表，用于存储分词结果\n",
    "    rmmresult = []\n",
    "    # 获取词典中最长词的长度\n",
    "    max_len = max([len(item) for item in vocab])\n",
    "    # 设定起始位置为句子末尾\n",
    "    start = len(sentence)\n",
    "\n",
    "    # 循环处理，直到整个句子都被分词\n",
    "    while start != 0:\n",
    "        # 尝试从当前位置往前推最大长度的子串\n",
    "        index = start - max_len\n",
    "        if index < 0:\n",
    "            # 防止下标越界，调整为从0开始\n",
    "            index = 0\n",
    "        \n",
    "        # 向前查找直到找到匹配的词\n",
    "        while index < start:\n",
    "            # 截取当前子串\n",
    "            current_substr = sentence[index:start]\n",
    "\n",
    "            # 如果当前子串在词典中，或当前子串长度为1（即单个字符）\n",
    "            if current_substr in vocab or len(current_substr) == 1:\n",
    "                # 匹配成功，将当前子串插入到结果列表的开头\n",
    "                rmmresult.insert(0, current_substr)\n",
    "                # 更新起始位置，继续向前匹配\n",
    "                start = index\n",
    "                # 找到一个词后跳出内层循环\n",
    "                break\n",
    "            index += 1  # 如果当前子串没有匹配，向前移动一个字符继续尝试\n",
    "    \n",
    "    # 返回最终的分词结果\n",
    "    return rmmresult"
   ]
  },
  {
   "cell_type": "code",
   "execution_count": 3,
   "metadata": {},
   "outputs": [],
   "source": [
    "def bi_directional_matching(vocab, sentence):\n",
    "    \"\"\"\n",
    "    双向最大匹配分词函数，结合正向最大匹配和逆向最大匹配的结果，\n",
    "    通过一定规则选择更优的分词结果。\n",
    "\n",
    "    Args:\n",
    "        vocab (list): 词典，包含所有可能的词汇。\n",
    "        sentence (str): 需要进行分词的句子。\n",
    "\n",
    "    Returns:\n",
    "        list: 经过双向匹配策略选择后的分词结果列表。\n",
    "    \"\"\"\n",
    "    # 获取正向最大匹配的分词结果\n",
    "    res1 = forward_max_matching(vocab, sentence)\n",
    "    # 获取逆向最大匹配的分词结果\n",
    "    res2 = reverse_directional_max_matching(vocab, sentence)\n",
    "\n",
    "    # 分别获取正向和逆向匹配结果的长度\n",
    "    len_res1, len_res2 = len(res1), len(res2)\n",
    "\n",
    "    # 如果正向和逆向匹配结果的长度相同\n",
    "    if len_res1 == len_res2:\n",
    "        # 如果两个结果完全一样，直接返回其中一个\n",
    "        if res1 == res2:\n",
    "            return res1\n",
    "        else:\n",
    "            # 统计正向匹配结果中长度为1的词的数量\n",
    "            res1_sn = sum(1 for i in res1 if len(i) == 1)\n",
    "            # 统计逆向匹配结果中长度为1的词的数量\n",
    "            res2_sn = sum(1 for i in res2 if len(i) == 1)\n",
    "            # 返回包含较少单字符词的结果\n",
    "            return res1 if res1_sn < res2_sn else res2\n",
    "    else:\n",
    "        # 返回词数较少的结果\n",
    "        return res1 if len_res1 < len_res2 else res2"
   ]
  },
  {
   "cell_type": "code",
   "execution_count": 6,
   "metadata": {},
   "outputs": [],
   "source": [
    "vocab = ['我们', '今天', '在', '野生动物园', '玩']\n",
    "sentence = '我们是今天在野生动物园玩了'"
   ]
  },
  {
   "cell_type": "code",
   "execution_count": 7,
   "metadata": {},
   "outputs": [
    {
     "name": "stdout",
     "output_type": "stream",
     "text": [
      "['我们', '是', '今天', '在', '野生动物园', '玩', '了']\n",
      "['我们', '是', '今天', '在', '野生动物园', '玩', '了']\n"
     ]
    }
   ],
   "source": [
    "fmm_result = forward_max_matching(vocab, sentence)\n",
    "rmm_result = reverse_directional_max_matching(vocab, sentence)\n",
    "print(fmm_result)\n",
    "print(rmm_result)"
   ]
  },
  {
   "cell_type": "code",
   "execution_count": 10,
   "metadata": {},
   "outputs": [
    {
     "name": "stdout",
     "output_type": "stream",
     "text": [
      "['我们', '是', '今天', '在', '野生动物园', '玩', '了']\n"
     ]
    }
   ],
   "source": [
    "bm_result = bi_directional_matching(vocab, sentence)\n",
    "print(bm_result)"
   ]
  },
  {
   "cell_type": "code",
   "execution_count": null,
   "metadata": {},
   "outputs": [],
   "source": []
  }
 ],
 "metadata": {
  "kernelspec": {
   "display_name": "Python 3",
   "language": "python",
   "name": "python3"
  },
  "language_info": {
   "codemirror_mode": {
    "name": "ipython",
    "version": 3
   },
   "file_extension": ".py",
   "mimetype": "text/x-python",
   "name": "python",
   "nbconvert_exporter": "python",
   "pygments_lexer": "ipython3",
   "version": "3.8.5"
  }
 },
 "nbformat": 4,
 "nbformat_minor": 4
}
